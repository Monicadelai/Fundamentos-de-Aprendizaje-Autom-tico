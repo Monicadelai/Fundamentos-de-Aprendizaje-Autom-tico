{
 "cells": [
  {
   "cell_type": "markdown",
   "metadata": {},
   "source": [
    "# Fundamentos de Aprendizaje Automático\n",
    "## Práctica 3\n",
    "### Alfonso Bonilla Trueba y Mónica de la Iglesia Martínez"
   ]
  },
  {
   "cell_type": "markdown",
   "metadata": {},
   "source": [
    "#### Apartado 1"
   ]
  },
  {
   "cell_type": "markdown",
   "metadata": {},
   "source": [
    "Breve descripción de algunos detalles de la implementación. Solo es necesario especificar los siguientes aspectos:\n",
    "\n",
    "**a) Mecanismo de cruce implementado**\n",
    "\n",
    "El mecanismo de cruce que hemos implementado es cruce uniforme (se tira una moneda para cada gen para decidir a que vástago va).\n",
    "Para ello guardamos en dos arrays los genes de los progenitores y hacemos un bucle que va desde 0 hasta la longitud de los padres, en el que\n",
    "en cada ronda se sacara un numero un numero aleatorio 0 ò 1. Si sale 1, el valor de los padres se copia directamente en los hijos,\n",
    "y si sale 0 en los hijos se guardan los valores intercambiados de los progenitores.\n",
    "Una vez se ha recorrido todo el bucle tenemos los vástagos de la longitud deseada.\n",
    "\n",
    "\n",
    "**b) Mecanismo de mutación implementado**\n",
    "\n",
    "Para realizar la mutación hemos usamos una probabilidad de mutación de bit del 1%.\n",
    "Para ello generamos un array de 10 elementos compuesto por nueve 0's y un 1 para así conseguir la probabilidad citada anteriormente (probabilidad de 1 ).\n",
    "Hacemos un bucle que va desde 0 hasta la longitud del gen, en el que por cada ronda se hace una mezcla aleatoria del array de probabilidades\n",
    " y se saca un número al azar. Si el numero es el 1, en el hijo guardamos el bit mutado, en caso contrario se copia el bit del padre en el hijo."
   ]
  },
  {
   "cell_type": "markdown",
   "metadata": {},
   "source": [
    "#### Apartado 2"
   ]
  },
  {
   "cell_type": "code",
   "execution_count": 1,
   "metadata": {},
   "outputs": [
    {
     "name": "stdout",
     "output_type": "stream",
     "text": [
      "  Fichero:  wdbc.data\n",
      "  - Porcentaje Entrenamiento en Validacion simple 70.00%\n",
      "  - Usando nuestra libreria\n",
      "----------------------------------------------------\n",
      "Fitness del individuo: 0.970760\n",
      "La Seleccion de atributos usando AG es:\n",
      "   - Atributo1\n",
      "   - Atributo2\n",
      "   - Atributo4\n",
      "   - Atributo7\n",
      "   - Atributo8\n",
      "   - Atributo10\n",
      "   - Atributo11\n",
      "   - Atributo12\n",
      "   - Atributo14\n",
      "   - Atributo16\n",
      "   - Atributo17\n",
      "   - Atributo18\n",
      "   - Atributo19\n",
      "   - Atributo20\n",
      "   - Atributo21\n",
      "   - Atributo23\n",
      "   - Atributo24\n",
      "   - Atributo25\n",
      "   - Atributo26\n",
      "   - Atributo27\n",
      "   - Atributo29\n"
     ]
    }
   ],
   "source": [
    "%run TasasClasificador.py ./ConjuntosDatos/wdbc.data --AG --poblacion 50 --generaciones 50"
   ]
  },
  {
   "cell_type": "code",
   "execution_count": 2,
   "metadata": {},
   "outputs": [
    {
     "name": "stdout",
     "output_type": "stream",
     "text": [
      "  Fichero:  wdbc.data\n",
      "  - Porcentaje Entrenamiento en Validacion simple 70.00%\n",
      "  - Usando nuestra libreria\n",
      "----------------------------------------------------\n",
      "Fitness del individuo: 0.953216\n",
      "La Seleccion de atributos usando AG es:\n",
      "   - Atributo3\n",
      "   - Atributo4\n",
      "   - Atributo5\n",
      "   - Atributo6\n",
      "   - Atributo8\n",
      "   - Atributo9\n",
      "   - Atributo10\n",
      "   - Atributo13\n",
      "   - Atributo14\n",
      "   - Atributo17\n",
      "   - Atributo18\n",
      "   - Atributo20\n",
      "   - Atributo21\n",
      "   - Atributo22\n",
      "   - Atributo23\n",
      "   - Atributo24\n",
      "   - Atributo26\n",
      "   - Atributo28\n"
     ]
    }
   ],
   "source": [
    "%run TasasClasificador.py ./ConjuntosDatos/wdbc.data --AG --poblacion 50 --generaciones 75"
   ]
  },
  {
   "cell_type": "code",
   "execution_count": 3,
   "metadata": {},
   "outputs": [
    {
     "name": "stdout",
     "output_type": "stream",
     "text": [
      "  Fichero:  wdbc.data\n",
      "  - Porcentaje Entrenamiento en Validacion simple 70.00%\n",
      "  - Usando nuestra libreria\n",
      "----------------------------------------------------\n",
      "Fitness del individuo: 0.953216\n",
      "La Seleccion de atributos usando AG es:\n",
      "   - Atributo1\n",
      "   - Atributo3\n",
      "   - Atributo5\n",
      "   - Atributo9\n",
      "   - Atributo10\n",
      "   - Atributo12\n",
      "   - Atributo14\n",
      "   - Atributo16\n",
      "   - Atributo21\n",
      "   - Atributo24\n",
      "   - Atributo30\n"
     ]
    }
   ],
   "source": [
    "%run TasasClasificador.py ./ConjuntosDatos/wdbc.data --AG --poblacion 75 --generaciones 50"
   ]
  },
  {
   "cell_type": "code",
   "execution_count": 4,
   "metadata": {},
   "outputs": [
    {
     "name": "stdout",
     "output_type": "stream",
     "text": [
      "  Fichero:  wdbc.data\n",
      "  - Porcentaje Entrenamiento en Validacion simple 70.00%\n",
      "  - Usando nuestra libreria\n",
      "----------------------------------------------------\n",
      "Fitness del individuo: 0.953216\n",
      "La Seleccion de atributos usando AG es:\n",
      "   - Atributo2\n",
      "   - Atributo3\n",
      "   - Atributo4\n",
      "   - Atributo6\n",
      "   - Atributo7\n",
      "   - Atributo9\n",
      "   - Atributo10\n",
      "   - Atributo12\n",
      "   - Atributo13\n",
      "   - Atributo15\n",
      "   - Atributo16\n",
      "   - Atributo18\n",
      "   - Atributo20\n",
      "   - Atributo21\n",
      "   - Atributo23\n",
      "   - Atributo24\n",
      "   - Atributo25\n",
      "   - Atributo26\n",
      "   - Atributo27\n",
      "   - Atributo29\n"
     ]
    }
   ],
   "source": [
    "%run TasasClasificador.py ./ConjuntosDatos/wdbc.data --AG --poblacion 75 --generaciones 75"
   ]
  },
  {
   "cell_type": "markdown",
   "metadata": {},
   "source": [
    "#### Apartado 3"
   ]
  },
  {
   "cell_type": "code",
   "execution_count": 5,
   "metadata": {},
   "outputs": [
    {
     "name": "stdout",
     "output_type": "stream",
     "text": [
      "  Fichero:  wdbc.data\n",
      "  - Porcentaje Entrenamiento en Validacion simple 70.00%\n",
      "  - Usando la libreria Sklearn\n",
      "----------------------------------------------------\n",
      "La Seleccion de atributos usando SelectKBest es:\n",
      "   - Atributo1\n",
      "   - Atributo3\n",
      "   - Atributo4\n",
      "   - Atributo7\n",
      "   - Atributo8\n",
      "   - Atributo21\n",
      "   - Atributo23\n",
      "   - Atributo24\n",
      "   - Atributo27\n",
      "   - Atributo28\n",
      "\n",
      "La Seleccion de atributos usando SelectFromModel es:\n",
      "   - Atributo1\n",
      "   - Atributo2\n",
      "   - Atributo3\n",
      "   - Atributo4\n",
      "   - Atributo14\n",
      "   - Atributo21\n",
      "   - Atributo22\n",
      "   - Atributo23\n",
      "   - Atributo24\n"
     ]
    }
   ],
   "source": [
    "%run TasasClasificador.py ./ConjuntosDatos/wdbc.data --AG --sklearn"
   ]
  },
  {
   "cell_type": "markdown",
   "metadata": {},
   "source": [
    "#### Apartado 4"
   ]
  },
  {
   "cell_type": "markdown",
   "metadata": {},
   "source": [
    "En la siguiente tabla podemos ver la comparación de los atributos que se han seleccionado en las distintas ejecuciones realizadas anteriormente. La nomenclatura de los titulos de la tabla es (Tamaño de la Población-Generaciones)"
   ]
  },
  {
   "cell_type": "markdown",
   "metadata": {},
   "source": [
    "|   | 50-50  | 50-75  |75-50   | 75-75   | KBest   | SelectFromModel    |\n",
    "|:-:|:-:|:-:|:-:|:-:|:-:|:-:|\n",
    "|Atributo 1 |  Sí |   |  Sí |    |  Sí  |  Sí   |\n",
    "|Atributo 2 | Sí  |   |   |  Sí  |    |    Sí |\n",
    "|Atributo 3 |   | Sí  |  Sí | Sí   | Sí   |  Sí   |\n",
    "|Atributo 4 |  Sí | Sí  |   |    |  Sí  | Sí    |\n",
    "|Atributo 5 |   | Sí  | Sí  |    |    |     |\n",
    "|Atributo 6 |   |  Sí |   |   Sí |    |     |\n",
    "|Atributo 7 | Sí  |   |   |  Sí  |  Sí  |     |\n",
    "|Atributo 8 |  Sí | Sí  |   |    |   Sí |     |\n",
    "|Atributo 9 |   | Sí  |   Sí|  Sí  |    |     |\n",
    "|Atributo 10 | Sí  | Sí  |Sí   | Sí   |    |     |\n",
    "|Atributo 11 | Sí  |   |   |    |    |     |\n",
    "|Atributo 12 |  Sí |   | Sí  |  Sí  |    |     |\n",
    "|Atributo 13 |  Sí |  Sí |   | Sí   |    |     |\n",
    "|Atributo 14 |   | Sí  | Sí  |    |    |   Sí  |\n",
    "|Atributo 15 |   |   |   |    | Sí   |     |\n",
    "|Atributo 16 | Sí  |   |Sí   | Sí   |    |     |\n",
    "|Atributo 17 | Sí  | Sí  |   |    |    |     |\n",
    "|Atributo 18 | Sí  | Sí  |   | Sí   |    |     |\n",
    "|Atributo 19 | Sí  |   |   |    |    |     |\n",
    "|Atributo 20 | Sí  | Sí  | Sí  |  Sí  |    |     |\n",
    "|Atributo 21 |  Sí |  Sí |   |   Sí |  Sí  | Sí    |\n",
    "|Atributo 22 |   |  Sí |   |    |    |  Sí   |\n",
    "|Atributo 23 |  Sí | Sí  |   |   Sí |  Sí  |  Sí   |\n",
    "|Atributo 24 | Sí  | Sí  |Sí   | Sí   | Sí   |  Sí   |\n",
    "|Atributo 25 |  Sí |   |   |    | Sí   |     |\n",
    "|Atributo 26 |  Sí |  Sí |   |   Sí |    |     |\n",
    "|Atributo 27 | Sí  |   |   | Sí   | Sí   |     |\n",
    "|Atributo 28 |   |  Sí |   |    | Sí   |     |\n",
    "|Atributo 29 | Sí  |   |   |  Sí  |    |     |\n",
    "|Atributo 30 |   |   | Sí  |    |    |     |"
   ]
  },
  {
   "cell_type": "markdown",
   "metadata": {},
   "source": [
    "Observamos que no se seleccionan exacatamente los mismos atributos. Las funciones de sklearn seleccionan menos atributos que nuestra implementación, pero si nos fijamos en la tabla podemos ver como hay atributos que coninciden en las distintas ejecuciones de nuestra implementación con sklearn.\n",
    "\n",
    "* El atributo 3 ha sido seleccionado siempre excepto en la ejecucion de 50 población y 50 generaciones.\n",
    "* El atributo 21 ha sido seleccionado siempre excepto en la ejecucion de 75 población y 50 generaciones.\n",
    "* El atributo 23 ha sido seleccionado siempre excepto en la ejecucion de 75 población y 50 generaciones.\n",
    "* El atributo 24 ha sido siempre seleccionado, por tanto su información es importante para el entrenamiento y buena predicción.\n",
    "\n",
    "De esta comparación, como conclusión final vemos que los atributos mas importantes son el 3, 21, 23 y 24, pues son los que coinciden en todas las ejecuciones."
   ]
  }
 ],
 "metadata": {
  "kernelspec": {
   "display_name": "Python 2",
   "language": "python",
   "name": "python2"
  },
  "language_info": {
   "codemirror_mode": {
    "name": "ipython",
    "version": 2
   },
   "file_extension": ".py",
   "mimetype": "text/x-python",
   "name": "python",
   "nbconvert_exporter": "python",
   "pygments_lexer": "ipython2",
   "version": "2.7.13"
  }
 },
 "nbformat": 4,
 "nbformat_minor": 2
}
