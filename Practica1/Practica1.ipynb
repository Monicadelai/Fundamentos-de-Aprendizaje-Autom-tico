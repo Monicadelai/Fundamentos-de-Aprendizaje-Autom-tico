{
 "cells": [
  {
   "cell_type": "markdown",
   "metadata": {},
   "source": [
    "# Fundamentos de Aprendizaje Automatico\n",
    "## Pratica 1\n",
    "### Alfonso Bonilla Trueba y Monica de la Iglesia Martinez"
   ]
  },
  {
   "cell_type": "markdown",
   "metadata": {},
   "source": [
    "##### Apartado 1 (Usando nuestra implementacion de Naive Bayes)"
   ]
  },
  {
   "cell_type": "markdown",
   "metadata": {},
   "source": [
    "* <b>Ejecuciones german.data primero sin correción y despues con correción</b>"
   ]
  },
  {
   "cell_type": "code",
   "execution_count": 1,
   "metadata": {
    "scrolled": false
   },
   "outputs": [
    {
     "name": "stdout",
     "output_type": "stream",
     "text": [
      "  Fichero:  german.data\n",
      "  - Porcentaje Entrenamiento en Validacion simple 70.00%\n",
      "  - Numero de Particiones en Validacion cruzada:  5\n",
      "  - Sin usar Correccion de La Place\n",
      "  - Usando nuestra libreria\n",
      "----------------------------------------------------\n",
      "  El error con Validacion Simple es del 24.33%\n",
      "  El error medio con Validacion Cruzada es del 23.70% Con una desviacion de 3.19%\n"
     ]
    }
   ],
   "source": [
    "%run TasasClasificador.py ./ConjuntosDatos/german.data"
   ]
  },
  {
   "cell_type": "code",
   "execution_count": 2,
   "metadata": {},
   "outputs": [
    {
     "name": "stdout",
     "output_type": "stream",
     "text": [
      "  Fichero:  german.data\n",
      "  - Porcentaje Entrenamiento en Validacion simple 70.00%\n",
      "  - Numero de Particiones en Validacion cruzada:  5\n",
      "  - Usando la Correccion de La Place\n",
      "  - Usando nuestra libreria\n",
      "----------------------------------------------------\n",
      "  El error con Validacion Simple es del 29.67%\n",
      "  El error medio con Validacion Cruzada es del 23.40% Con una desviacion de 2.42%\n"
     ]
    }
   ],
   "source": [
    "%run TasasClasificador.py ./ConjuntosDatos/german.data --laPlace"
   ]
  },
  {
   "cell_type": "markdown",
   "metadata": {},
   "source": [
    "|           | <font size=\"5\"><b>german.data</b></font>|        |\n",
    "| :-------: | :------: | :-----: |\n",
    "|           | <font size=\"4\"><b>Validación Simple</b></font> | <font size=\"4\"><b>Validación Cruzada</b></font> |\n",
    "| <font size=\"3\">Sin Corrección</font>  | <font size=\"3\">24.33%</font>  |  <font size=\"3\">23.70%</font> |\n",
    "| <font size=\"3\">Con Corección</font>  | <font size=\"3\">29.67%</font> |    <font size=\"3\">23.40%</font> |"
   ]
  },
  {
   "cell_type": "markdown",
   "metadata": {},
   "source": [
    "* <b>Ejecuciones tic-tac-toe.data primero sin correción y despues con correción</b>"
   ]
  },
  {
   "cell_type": "code",
   "execution_count": 3,
   "metadata": {},
   "outputs": [
    {
     "name": "stdout",
     "output_type": "stream",
     "text": [
      "  Fichero:  tic-tac-toe.data\n",
      "  - Porcentaje Entrenamiento en Validacion simple 70.00%\n",
      "  - Numero de Particiones en Validacion cruzada:  5\n",
      "  - Sin usar Correccion de La Place\n",
      "  - Usando nuestra libreria\n",
      "----------------------------------------------------\n",
      "  El error con Validacion Simple es del 30.90%\n",
      "  El error medio con Validacion Cruzada es del 28.33% Con una desviacion de 2.18%\n"
     ]
    }
   ],
   "source": [
    "%run TasasClasificador.py ./ConjuntosDatos/tic-tac-toe.data"
   ]
  },
  {
   "cell_type": "code",
   "execution_count": 11,
   "metadata": {},
   "outputs": [
    {
     "name": "stdout",
     "output_type": "stream",
     "text": [
      "  Fichero:  tic-tac-toe.data\n",
      "  - Porcentaje Entrenamiento en Validacion simple 70.00%\n",
      "  - Numero de Particiones en Validacion cruzada:  5\n",
      "  - Usando la Correccion de La Place\n",
      "  - Usando nuestra libreria\n",
      "----------------------------------------------------\n",
      "  El error con Validacion Simple es del 29.51%\n",
      "  El error medio con Validacion Cruzada es del 29.58% Con una desviacion de 2.07%\n"
     ]
    }
   ],
   "source": [
    "%run TasasClasificador.py ./ConjuntosDatos/tic-tac-toe.data --laPlace"
   ]
  },
  {
   "cell_type": "markdown",
   "metadata": {},
   "source": [
    "|           | <font size=\"5\"><b>tic-tac-toe.data</b></font>|        |\n",
    "| :-------: | :------: | :-----: |\n",
    "|           | <font size=\"4\"><b>Validación Simple</b></font> | <font size=\"4\"><b>Validación Cruzada</b></font> |\n",
    "| <font size=\"3\">Sin Corrección</font>  | <font size=\"3\">30.90%</font>  |  <font size=\"3\">28.33%</font> |\n",
    "| <font size=\"3\">Con Corección</font>  | <font size=\"3\">29.51%</font> |    <font size=\"3\">29.58%</font> |"
   ]
  },
  {
   "cell_type": "markdown",
   "metadata": {},
   "source": [
    "##### Apartado 2"
   ]
  },
  {
   "cell_type": "markdown",
   "metadata": {},
   "source": [
    "Vamos a comenzar comparando los resulados para el fichero german.data. Usando correccion de La place vemos que tanto en validación simple como en validación cruzada el porcentaje de error ha aumentado. Esto ocurre para los casos en los que en las tablas de ocurrencia hay algun cero sumamos uno a toda esa tabla. En este caso el 0 no es por falta de datos puesto que es un fichero grande, sino que es porque ese caso no se da. Por tanto al aplicar la correcion estamos falseando los datos y obteniendo predicciones erroneas en algun caso. Este es el motivo por el que hay un ligero aumento de la tasa de error usando La Place.\n",
    "\n",
    "Para el fichero tic-tac-toe.data vemos que el error es practicamente el mimso, es decir, las tablas de ocurrencia usadas para el calculo de Naive Bayes no hay casi 0, por tanto, la correccion no tiene mucho efecto."
   ]
  },
  {
   "cell_type": "markdown",
   "metadata": {},
   "source": [
    "##### Apartado 3 (Usando la libreria scikit-learn)"
   ]
  },
  {
   "cell_type": "markdown",
   "metadata": {},
   "source": [
    "* <b>Ejecuciones german.data primero sin correción y despues con correción</b>"
   ]
  },
  {
   "cell_type": "code",
   "execution_count": 6,
   "metadata": {},
   "outputs": [
    {
     "name": "stdout",
     "output_type": "stream",
     "text": [
      "  Fichero:  german.data\n",
      "  - Porcentaje Entrenamiento en Validacion simple 70.00%\n",
      "  - Numero de Particiones en Validacion cruzada:  5\n",
      "  - Sin usar Correccion de La Place\n",
      "  - Usando la libreria Sklearn\n",
      "----------------------------------------------------\n",
      "  El error con Validacion Simple es del 28.24%\n",
      "  El error con Validacion Cruzada es del 27.50% Con una desviacion de 3.19%\n"
     ]
    }
   ],
   "source": [
    "%run TasasClasificador.py ./ConjuntosDatos/german.data --sklearn"
   ]
  },
  {
   "cell_type": "code",
   "execution_count": 7,
   "metadata": {},
   "outputs": [
    {
     "name": "stdout",
     "output_type": "stream",
     "text": [
      "  Fichero:  german.data\n",
      "  - Porcentaje Entrenamiento en Validacion simple 70.00%\n",
      "  - Numero de Particiones en Validacion cruzada:  5\n",
      "  - Usando la Correccion de La Place\n",
      "  - Usando la libreria Sklearn\n",
      "----------------------------------------------------\n",
      "  El error con Validacion Simple es del 36.88%\n",
      "  El error con Validacion Cruzada es del 36.70% Con una desviacion de 4.08%\n"
     ]
    }
   ],
   "source": [
    "%run TasasClasificador.py ./ConjuntosDatos/german.data --sklearn --laPlace"
   ]
  },
  {
   "cell_type": "markdown",
   "metadata": {},
   "source": [
    "|           | <font size=\"5\"><b>german.data</b></font>|        |\n",
    "| :-------: | :------: | :-----: |\n",
    "|           | <font size=\"4\"><b>Validación Simple</b></font> | <font size=\"4\"><b>Validación Cruzada</b></font> |\n",
    "| <font size=\"3\">Sin Corrección</font>  | <font size=\"3\">28.24%</font>  |  <font size=\"3\">27.50%</font> |\n",
    "| <font size=\"3\">Con Corección</font>  | <font size=\"3\">36.88%</font> |    <font size=\"3\">36.70%</font> |"
   ]
  },
  {
   "cell_type": "markdown",
   "metadata": {},
   "source": [
    "* <b>Ejecuciones tic-tac-toe.data primero sin correción y despues con correción</b>"
   ]
  },
  {
   "cell_type": "code",
   "execution_count": 8,
   "metadata": {},
   "outputs": [
    {
     "name": "stdout",
     "output_type": "stream",
     "text": [
      "  Fichero:  tic-tac-toe.data\n",
      "  - Porcentaje Entrenamiento en Validacion simple 70.00%\n",
      "  - Numero de Particiones en Validacion cruzada:  5\n",
      "  - Sin usar Correccion de La Place\n",
      "  - Usando la libreria Sklearn\n",
      "----------------------------------------------------\n",
      "  El error con Validacion Simple es del 34.03%\n",
      "  El error con Validacion Cruzada es del 32.99% Con una desviacion de 2.22%\n"
     ]
    }
   ],
   "source": [
    "%run TasasClasificador.py ./ConjuntosDatos/tic-tac-toe.data --sklearn"
   ]
  },
  {
   "cell_type": "code",
   "execution_count": 9,
   "metadata": {
    "scrolled": true
   },
   "outputs": [
    {
     "name": "stdout",
     "output_type": "stream",
     "text": [
      "  Fichero:  tic-tac-toe.data\n",
      "  - Porcentaje Entrenamiento en Validacion simple 70.00%\n",
      "  - Numero de Particiones en Validacion cruzada:  5\n",
      "  - Usando la Correccion de La Place\n",
      "  - Usando la libreria Sklearn\n",
      "----------------------------------------------------\n",
      "  El error con Validacion Simple es del 25.00%\n",
      "  El error con Validacion Cruzada es del 30.37% Con una desviacion de 3.58%\n"
     ]
    }
   ],
   "source": [
    "%run TasasClasificador.py ./ConjuntosDatos/tic-tac-toe.data --sklearn --laPlace"
   ]
  },
  {
   "cell_type": "markdown",
   "metadata": {},
   "source": [
    "|           | <font size=\"5\"><b>tic-tac-toe.data</b></font>|        |\n",
    "| :-------: | :------: | :-----: |\n",
    "|           | <font size=\"4\"><b>Validación Simple</b></font> | <font size=\"4\"><b>Validación Cruzada</b></font> |\n",
    "| <font size=\"3\">Sin Corrección</font>  | <font size=\"3\">34.03%</font>  |  <font size=\"3\">32.99%</font> |\n",
    "| <font size=\"3\">Con Corección</font>  | <font size=\"3\">25.00%</font> |    <font size=\"3\">30.37%</font> |"
   ]
  },
  {
   "cell_type": "markdown",
   "metadata": {},
   "source": [
    "#### Comparacion de nuestra implementacion con scikit-learn\n",
    "\n",
    "Podemos observar que los errores usando scikit-learn son mayores con el fichero german. Esto es porque este fichero contiene atributos continuos. Estos atributos son soportados por nuestra implementación, pero no lo scikit-learn. Por tanto a la hora de calcular las probabilidades nuestro clasificador es mas preciso.\n",
    "\n",
    "El fichero tic-tac-toe no contiene atributos continuos, por lo que la tasa de error de nuestro clasificador y la de scikit-learn son mas aproximadas. Es imposible que salgan igual, puesto que antes de hacer las particiones se permutan los datos para evitar cualquier tipo de sesgo. Por lo cual, no estan entrenando y testeando el mismo conjunto de datos, aunque estos provengan del mismo fichero de datos.\n",
    "\n",
    "\n",
    "\n"
   ]
  },
  {
   "cell_type": "markdown",
   "metadata": {},
   "source": [
    "##### Apartado 4"
   ]
  },
  {
   "cell_type": "markdown",
   "metadata": {},
   "source": [
    "El inconveniente que encontramos en la validación cruzada es encontrar un buen k (numero de particiones). Este depende de la cantidad de datos que se tengan. Si tienes pocos datos pero eliges un k muy alto, el error medio obtenido será muy elevado, puesto que el tamaño de las particiones es muy pequeño, y por tanto el test es tan pequeño obtiene una tasa de fallo muy elevada.\n",
    "\n",
    "Computacionalmente tambien creemos que es mas costoso, puesto que la validacion cruzada es como realizar k validaciones simples."
   ]
  },
  {
   "cell_type": "markdown",
   "metadata": {},
   "source": [
    "##### Información adicional"
   ]
  },
  {
   "cell_type": "markdown",
   "metadata": {},
   "source": [
    "Hemos implementado un main denominado TasasClasificador.py\n",
    "Este programa recibe como minimo la ruta del fichero que contiene los datos por argumento.\n",
    "\n",
    "> ~$ python TasasClasificador.py ./ConjuntosDatos/german.data\n",
    "\n",
    "Este main que hemos implementado soporta los siguientes argumentos opcionales:\n",
    "* --laPlace                 Ejecuta el Clasificador con corrección La Place\n",
    "* --sklearn                 Ejecuta el Clasificador NB de la libreria scikit-learn\n",
    "* --porcenaje <0.0>         Establece el porcentaje de train\n",
    "* --particiones <0>         Número entero que establece el numero de particiones para la validación cruzada\n",
    "\n",
    "\n",
    "Si no se introduce ninguno de estos argumentos opcionales por defecto se ejecuta el clasificador implementado por nosotros, sin correción La Place, con un porcentaje de entrenamiento del 70% para validación simple y 5 particiones para validación cruzada."
   ]
  }
 ],
 "metadata": {
  "kernelspec": {
   "display_name": "Python 2",
   "language": "python",
   "name": "python2"
  },
  "language_info": {
   "codemirror_mode": {
    "name": "ipython",
    "version": 2
   },
   "file_extension": ".py",
   "mimetype": "text/x-python",
   "name": "python",
   "nbconvert_exporter": "python",
   "pygments_lexer": "ipython2",
   "version": "2.7.13"
  }
 },
 "nbformat": 4,
 "nbformat_minor": 2
}
